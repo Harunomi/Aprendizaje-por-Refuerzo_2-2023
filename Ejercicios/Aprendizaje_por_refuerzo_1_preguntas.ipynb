{
  "cells": [
    {
      "cell_type": "markdown",
      "metadata": {
        "id": "5ibwGb5Boj4f"
      },
      "source": [
        "# Ejercicio 1: Problema de Bandidos\n",
        "\n",
        "En esta seccion estudiaremos las diferentes manera de seleccionar acciones que fueron vistas en clases:\n",
        "\n",
        "- Seleccion golosa\n",
        "- $\\epsilon$-greedy\n",
        "- softmax\n",
        "\n",
        "Utilizaremos la siguiente clase que permite simular un problema de bandidos\n",
        "\n",
        "\n"
      ]
    },
    {
      "cell_type": "code",
      "execution_count": null,
      "metadata": {
        "id": "MknTK79jodxy"
      },
      "outputs": [],
      "source": [
        "import numpy as np\n",
        "import matplotlib.pyplot as plt\n",
        "\n",
        "rng = np.random.default_rng()\n",
        "\n",
        "class Bandit:\n",
        "    \"\"\"\n",
        "    n-armed bandit.\n",
        "    \"\"\"\n",
        "    def __init__(self, nb_actions, mean=0.0, std_Q=1.0, std_r=1.0):\n",
        "        \"\"\"\n",
        "        :param nb_actions: numbero de acciones\n",
        "        :param mean: promedio de la distribucion normal desde la cual se obtiene $Q^*$.\n",
        "        :param std_Q: desviación estándar de $Q^*$.\n",
        "        :param std_r: desviación estándar de las recompensas muestreadas.\n",
        "        \"\"\"\n",
        "        # Almacenar parámetros\n",
        "        self.nb_actions = nb_actions\n",
        "        self.mean = mean\n",
        "        self.std_Q = std_Q\n",
        "        self.std_r = std_r\n",
        "\n",
        "        # Inicializar los valores de Q reales (desconocidos para el agente)\n",
        "        self.Q_star = rng.normal(self.mean, self.std_Q, self.nb_actions)\n",
        "\n",
        "        # Acción óptima\n",
        "        self.a_star = self.Q_star.argmax()\n",
        "\n",
        "    def step(self, action):\n",
        "        \"\"\"\n",
        "        Obtener una muestra del bandido\n",
        "\n",
        "        :param action: la acción seleccionada.\n",
        "        :return: la recompensa.\n",
        "        \"\"\"\n",
        "        return float(rng.normal(self.Q_star[action], self.std_r, 1))\n",
        "\n"
      ]
    },
    {
      "cell_type": "markdown",
      "metadata": {
        "id": "U4LwbqMLHXQA"
      },
      "source": [
        "**Pregunta 1:** Cree un bandido con 5 acciones y por cada acción obtenga 10 muestras. Luego grafique el promedio de recompensa de cada acción y compare con los valores reales. Aumente la cantidad de muestras a 1000 y vuelva a realizar la comparación."
      ]
    },
    {
      "cell_type": "code",
      "execution_count": 24,
      "metadata": {
        "id": "Sy_GkSDyINi2"
      },
      "outputs": [
        {
          "name": "stderr",
          "output_type": "stream",
          "text": [
            "C:\\Users\\Harunomi\\AppData\\Local\\Temp\\ipykernel_10404\\3628562260.py:37: DeprecationWarning: Conversion of an array with ndim > 0 to a scalar is deprecated, and will error in future. Ensure you extract a single element from your array before performing this operation. (Deprecated NumPy 1.25.)\n",
            "  return float(rng.normal(self.Q_star[action], self.std_r, 1))\n"
          ]
        },
        {
          "data": {
            "text/plain": [
              "<BarContainer object of 5 artists>"
            ]
          },
          "execution_count": 24,
          "metadata": {},
          "output_type": "execute_result"
        },
        {
          "data": {
            "image/png": "[encoded data removed]",
            "text/plain": [
              "<Figure size 640x480 with 1 Axes>"
            ]
          },
          "metadata": {},
          "output_type": "display_data"
        }
      ],
      "source": [
        "import random\n",
        "import numpy as np\n",
        "import matplotlib.pyplot as plt\n",
        "\n",
        "rng = np.random.default_rng()\n",
        "\n",
        "class Bandit:\n",
        "    \"\"\"\n",
        "    n-armed bandit.\n",
        "    \"\"\"\n",
        "    def __init__(self, nb_actions, mean=0.0, std_Q=1.0, std_r=1.0):\n",
        "        \"\"\"\n",
        "        :param nb_actions: numbero de acciones\n",
        "        :param mean: promedio de la distribucion normal desde la cual se obtiene $Q^*$.\n",
        "        :param std_Q: desviación estándar de $Q^*$.\n",
        "        :param std_r: desviación estándar de las recompensas muestreadas.\n",
        "        \"\"\"\n",
        "        # Almacenar parámetros\n",
        "        self.nb_actions = nb_actions\n",
        "        self.mean = mean\n",
        "        self.std_Q = std_Q\n",
        "        self.std_r = std_r\n",
        "\n",
        "        # Inicializar los valores de Q reales (desconocidos para el agente)\n",
        "        self.Q_star = rng.normal(self.mean, self.std_Q, self.nb_actions)\n",
        "\n",
        "        # Acción óptima\n",
        "        self.a_star = self.Q_star.argmax()\n",
        "\n",
        "    def step(self, action):\n",
        "        \"\"\"\n",
        "        Obtener una muestra del bandido\n",
        "\n",
        "        :param action: la acción seleccionada.\n",
        "        :return: la recompensa.\n",
        "        \"\"\"\n",
        "        return float(rng.normal(self.Q_star[action], self.std_r, 1))\n",
        "\n",
        "n_actions = 5\n",
        "bandit = Bandit( n_actions, 0.3, 0.5, 0.34)\n",
        "Q_reward = []\n",
        "muestras = 1000\n",
        "for i in range(n_actions):\n",
        "    results = []\n",
        "    for j in range(muestras):\n",
        "        results.append(bandit.step(i))\n",
        "    Q_reward.append(np.mean(results))\n",
        "\n",
        "x = [i for i in range(1,n_actions+1)]\n",
        "\n",
        "plt.bar(x,Q_reward)"
      ]
    },
    {
      "cell_type": "markdown",
      "metadata": {
        "id": "s5XCabeeIq9G"
      },
      "source": [
        "En la seleccion golosa, siempre escogemos la acción con el valor máximo de Q (o aleatoriamente si hay un empate):\n",
        "\n",
        "$a_t = argmax_a Q(a)$\n",
        "\n",
        "Podemos mantener estimaciones de los valores de Q de la siguiente forma:\n",
        "\n",
        "$Q_{t+1}(a_t) = Q_t + \\alpha(r_t - Q_t(a_t))$\n",
        "\n",
        "Estos valores deben ser actualizados después de ejecutar cada acción $a_t$ y recibir la recompensa $r_t$.\n",
        "\n",
        "**Pregunta 2:** Implemente la seleccion golosa de acciones.\n",
        "\n",
        "El algoritmo debe\n",
        "\n",
        "1. Crear un bandido de 5 brazos (media 0 y varianza 1)\n",
        "2. Crear un arreglo para las estimaciones de Q e iniciar los valores en 0.\n",
        "3. Simular 100 jugadas en las que deberá:\n",
        "- Seleccionar una acción de manera goloza usando las estimaciones actuales\n",
        "- Obtener una muestra usando la acción seleccionada\n",
        "- Actualizar los valores de Q de la acción seleccionada\n",
        "\n",
        "Sugerencia: Para implementar argmax no utilizar np.argmax() ya que si hay algún empate x.argmax() siempre retorna el índice de la primera ocurrencia. Para implementar una acción aleatoria en caso de empate:\n",
        "\n",
        "a = rng.choice(np.where(x == x.max())[0])\n",
        "\n",
        "Almacene y cree un gráfico con las recompensas recibidas."
      ]
    },
    {
      "cell_type": "code",
      "execution_count": null,
      "metadata": {
        "id": "VyoQSK3oJODX"
      },
      "outputs": [],
      "source": [
        "# Escriba aqui su código"
      ]
    },
    {
      "cell_type": "markdown",
      "metadata": {
        "id": "yjWFNZPSJcEd"
      },
      "source": [
        "**Pregunta 3:** Vuelva a correr su algoritmo con multiples valores diferentes para Q* (simplemente cree un nuevo Bandido) y observe\n",
        "\n",
        "- Cuanta recompensa obtiene\n",
        "- Cuanto difieren los valores estimados de Q de los reales.\n",
        "- Si la seleccion golosa converge en la acción óptima."
      ]
    },
    {
      "cell_type": "markdown",
      "metadata": {
        "id": "rYCnWkJ-J585"
      },
      "source": [
        "**Pregunta 4:** Cree una clase que implemente un agente goloso GreedyAgent que tome el bandido y la tasa de aprendizaje como argumento  "
      ]
    },
    {
      "cell_type": "code",
      "execution_count": null,
      "metadata": {
        "id": "pLHyWk-NKFJJ"
      },
      "outputs": [],
      "source": [
        "class GreedyAgent:\n",
        "\n",
        "    def __init__(self, bandit, alpha):\n",
        "\n",
        "        self.bandit = bandit\n",
        "        self.alpha = alpha\n",
        "\n",
        "        # Estimated Q-values\n",
        "        self.Q_t = np.zeros(self.bandit.nb_actions)\n",
        "\n",
        "    def act(self):\n",
        "\n",
        "        action = #...\n",
        "        return action\n",
        "\n",
        "    def update(self, action, reward):\n",
        "\n",
        "        self.Q_t[action] += #...\n",
        "\n",
        "\n",
        "    def train(self, nb_steps):\n",
        "\n",
        "        rewards = []\n",
        "\n",
        "        for step in range(nb_steps):\n",
        "\n",
        "            # Seleccionar la acción\n",
        "            action = self.act()\n",
        "\n",
        "            # Obtener la muestra de recompensa\n",
        "            reward = self.bandit.step(action)\n",
        "\n",
        "            # Almacenar la recompensa\n",
        "            rewards.append(reward)\n",
        "\n",
        "            # Actualizar los valores Q\n",
        "            self.update(action, reward)\n",
        "\n",
        "        return np.array(rewards)"
      ]
    },
    {
      "cell_type": "markdown",
      "metadata": {
        "id": "3JaTWC4ZKRP9"
      },
      "source": [
        "**Pregunta 5:** Modifique el método train() para que retorne una lista de valores binatios que indiquen si el agente escogio la acción óptima. Ejecute una simulación como las anteriores y observe cuantas veces el agente escogio la acción óptima."
      ]
    },
    {
      "cell_type": "code",
      "execution_count": null,
      "metadata": {
        "id": "AB2S3860KTx6"
      },
      "outputs": [],
      "source": [
        "#Escriba aqui su código"
      ]
    },
    {
      "cell_type": "markdown",
      "metadata": {
        "id": "WPiD3342Kl35"
      },
      "source": [
        "**Pregunta 6:** Corra el proceso de aprendizaje 200 veces (nuevos bandidos y agente en cada proceso) y promedie los resultados. Dele un nombre único a cada arreglo ya que los usaremos después (por ejemplo rewards_greedy o optimal_greedy). Compare los resultados con lo visto en clases."
      ]
    },
    {
      "cell_type": "code",
      "execution_count": null,
      "metadata": {
        "id": "RXN81HnJwLmV"
      },
      "outputs": [],
      "source": [
        "#Escriba aqui su código"
      ]
    },
    {
      "cell_type": "markdown",
      "metadata": {
        "id": "O97jybV_LIB-"
      },
      "source": [
        "# Seleccion ϵ-greedy\n",
        "\n",
        "La seleccion golosa no explora: en cuanto encuentre una acción con un valor positivo seguirá escogiendo siempre la misma acción. El valor estimado de la acción escogida sera correcto pero todas las otras acciones se mantendrán en 0.\n",
        "\n",
        "En la selección ϵ-greedy, acciones con menores valores son escogidas con un probabilidad pequeña:\n",
        "\n",
        "$\\pi(a) = \\begin{cases} 1-\\epsilon & \\text{si a=a*}\\\\ \\frac{\\epsilon}{|A-1|} & \\text{en otro caso} \\end{cases}$\n",
        "\n",
        "**Pregunta 7:** Cree un agente ϵ-greedy y repita el experimento anterior. No borre los arreglos anteriores para así poder comparar ambos métodos en un mismo gráfico.\n",
        "\n",
        "El agente debe:\n",
        "\n",
        "- Determinar la acción golosa​\n",
        "- Obtener un número aleatorio entre 0 y 1 (rng.random()).\n",
        "Si este número es menor que ϵ entonces seleccionar otra accion aleatoria entre las restantes (rng.choice()).\n"
      ]
    },
    {
      "cell_type": "code",
      "execution_count": null,
      "metadata": {
        "id": "xf7IlpPeyPt4"
      },
      "outputs": [],
      "source": [
        "class EpsilonGreedyAgent(GreedyAgent):\n",
        "\n",
        "    def __init__(self, bandit, alpha, epsilon):\n",
        "\n",
        "        self.epsilon = epsilon\n",
        "\n",
        "        self.actions = np.arange(bandit.nb_actions)\n",
        "\n",
        "        super().__init__(bandit, alpha)\n",
        "\n",
        "    def act(self):\n",
        "\n",
        "        action = #...\n",
        "\n",
        "        return action\n",
        "\n",
        "nb_actions = 5\n",
        "\n",
        "# Tasa de aprendizaje\n",
        "alpha = 0.1\n",
        "\n",
        "# Epsilon para la exploracion\n",
        "epsilon = 0.1\n",
        "\n",
        "rewards_egreedy = []\n",
        "optimal_egreedy = []\n",
        "\n",
        "for trial in range(200):\n",
        "\n",
        "    bandit = Bandit(nb_actions)\n",
        "\n",
        "    agent = EpsilonGreedyAgent(bandit, alpha, epsilon)\n",
        "\n",
        "    rewards, optimal = agent.train(1000)\n",
        "\n",
        "    rewards_egreedy.append(rewards)\n",
        "    optimal_egreedy.append(optimal)\n",
        "\n",
        "rewards_egreedy = np.mean(rewards_egreedy, axis=0)\n",
        "optimal_egreedy = np.mean(optimal_egreedy, axis=0)\n",
        "\n",
        "# Plot the Q-values and the evolution of rewards\n",
        "plt.figure(figsize=(12, 5))\n",
        "plt.subplot(121)\n",
        "plt.plot(rewards_greedy, label=\"Greedy\")\n",
        "plt.plot(rewards_egreedy, label=\"$\\epsilon$-Greedy\")\n",
        "plt.legend()\n",
        "plt.xlabel(\"Plays\")\n",
        "plt.ylabel(\"Reward\")\n",
        "plt.subplot(122)\n",
        "plt.plot(optimal_greedy, label=\"Greedy\")\n",
        "plt.plot(optimal_egreedy, label=\"$\\epsilon$-Greedy\")\n",
        "plt.legend()\n",
        "plt.xlabel(\"Plays\")\n",
        "plt.ylabel(\"Optimal\")\n",
        "plt.show()\n",
        "\n"
      ]
    },
    {
      "cell_type": "markdown",
      "metadata": {
        "id": "xfZ6S79OMG89"
      },
      "source": [
        "# Seleccion softmax\n",
        "\n",
        "En esta estrategia los valores de Q son transformados en una distribución de las probabilidades sobre las acciones:\n",
        "\n",
        "$\\pi(s) = \\frac{exp Q(a)/\\tau}{\\sum_b exp Q(b)/\\tau}$\n",
        "\n",
        "En la práctica para valores muy grandes de Q o si la temperatura es muy pequeña los valores de $expQ(a)/\\tau$ pueden crear problemas numéricos. Para evitar esto usamos la siguiente fórmula:\n",
        "\n",
        "$\\pi(s) = \\frac{exp \\frac{Q_t(a)-max_aQ_t(a)}{\\tau}}{\\sum_b  \\frac{Q_t(b)-max_aQ_t(a)}{\\tau}}$\n",
        "\n",
        "$Q_t(a)-max_aQ_t(a)$ es siempre negativo por lo que el exponencial siempre esta entre 0 y 1.\n",
        "\n",
        "**Pregunta 8:** Implemente un agente con selección softmax (con $\\tau=0.5$) y compare con el agente goloso y el $\\epsilon$-greedy. Cambie la temperatura y determine el mejor valor. Concluya.\n",
        "\n",
        "Sugerencia: para escoger acciones usar action = rng.choice(self.actions, p=proba_softmax)"
      ]
    },
    {
      "cell_type": "code",
      "execution_count": null,
      "metadata": {
        "id": "eUD5-FLKMfec"
      },
      "outputs": [],
      "source": [
        "class SoftmaxAgent(GreedyAgent):\n",
        "\n",
        "    def __init__(self, bandit, alpha, tau):\n",
        "        self.tau = tau\n",
        "\n",
        "        # List of actions\n",
        "        self.actions = np.arange(bandit.nb_actions)\n",
        "\n",
        "        # Call the constructor of GreedyAgent\n",
        "        super().__init__(bandit, alpha)\n",
        "\n",
        "    def act(self):\n",
        "\n",
        "        action = #...\n",
        "        return action\n",
        "\n",
        "nb_actions = 5\n",
        "\n",
        "alpha = 0.1\n",
        "\n",
        "tau = 0.1\n",
        "\n",
        "rewards_softmax = []\n",
        "optimal_softmax = []\n",
        "\n",
        "for trial in range(200):\n",
        "\n",
        "    bandit = Bandit(nb_actions)\n",
        "\n",
        "    agent = SoftmaxAgent(bandit, alpha, tau)\n",
        "\n",
        "    rewards, optimal = agent.train(1000)\n",
        "\n",
        "    rewards_softmax.append(rewards)\n",
        "    optimal_softmax.append(optimal)\n",
        "\n",
        "rewards_softmax = np.mean(rewards_softmax, axis=0)\n",
        "optimal_softmax = np.mean(optimal_softmax, axis=0)\n",
        "\n",
        "plt.figure(figsize=(12, 5))\n",
        "plt.subplot(121)\n",
        "plt.plot(rewards_greedy, label=\"Greedy\")\n",
        "plt.plot(rewards_egreedy, label=\"$\\epsilon$-Greedy\")\n",
        "plt.plot(rewards_softmax, label=\"Softmax\")\n",
        "plt.legend()\n",
        "plt.xlabel(\"Plays\")\n",
        "plt.ylabel(\"Reward\")\n",
        "plt.subplot(122)\n",
        "plt.plot(optimal_greedy, label=\"Greedy\")\n",
        "plt.plot(optimal_egreedy, label=\"$\\epsilon$-Greedy\")\n",
        "plt.plot(optimal_softmax, label=\"Softmax\")\n",
        "plt.legend()\n",
        "plt.xlabel(\"Plays\")\n",
        "plt.ylabel(\"Optimal\")\n",
        "plt.show()"
      ]
    }
  ],
  "metadata": {
    "colab": {
      "provenance": []
    },
    "kernelspec": {
      "display_name": "Python 3",
      "name": "python3"
    },
    "language_info": {
      "codemirror_mode": {
        "name": "ipython",
        "version": 3
      },
      "file_extension": ".py",
      "mimetype": "text/x-python",
      "name": "python",
      "nbconvert_exporter": "python",
      "pygments_lexer": "ipython3",
      "version": "3.11.5"
    }
  },
  "nbformat": 4,
  "nbformat_minor": 0
}
